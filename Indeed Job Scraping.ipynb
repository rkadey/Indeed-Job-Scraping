{
 "cells": [
  {
   "cell_type": "code",
   "execution_count": 44,
   "metadata": {},
   "outputs": [],
   "source": [
    "from bs4 import BeautifulSoup\n",
    "import pandas as pd\n",
    "import csv\n",
    "import requests\n",
    "from datetime import datetime\n",
    "from time import sleep\n",
    "from random import randint\n",
    "\n",
    "def get_url(position, location):\n",
    "    template = \"https://www.indeed.com/jobs?q={}&l={}\"\n",
    "    url = template.format(position, location)\n",
    "    return url\n",
    "\n",
    "def get_record(card):\n",
    "    a_tag = card.h2.a\n",
    "    job_title  = card.h2.a.span.text\n",
    "    #job_title = a_tag.get('jobTitle')\n",
    "    job_url = 'https://www.indeed.com' + str(a_tag.get('href'))\n",
    "    job_company = card.find('span', 'companyName').text\n",
    "    post_date = card.find('span', 'date').text\n",
    "    \n",
    "    \n",
    "    record = (job_title, job_url, job_company, post_date)\n",
    "    \n",
    "    return record\n",
    "\n",
    "def main(position, location):\n",
    "    \n",
    "    records = []\n",
    "    url = get_url(position, location)\n",
    "    \n",
    "    while True:\n",
    "        response = requests.get(url)\n",
    "        soup = BeautifulSoup(response.text, 'html.parser')\n",
    "        cards = soup.find_all('div', 'job_seen_beacon')\n",
    "     \n",
    "            \n",
    "        for card in cards:\n",
    "            record = get_record(card)\n",
    "            records.append(record)\n",
    "    \n",
    "        try:\n",
    "            soup.find('a', {'aria-label':'Next'}).get('href')\n",
    "        except AttributeError:\n",
    "                break\n",
    "    return records\n"
   ]
  },
  {
   "cell_type": "code",
   "execution_count": 45,
   "metadata": {
    "scrolled": false
   },
   "outputs": [],
   "source": [
    "job_roles = main('Analyst', 'remote')\n",
    "df = pd.DataFrame(job_roles )\n",
    "df.columns = ['Position', 'URL', 'Comapny', 'Date Posted']\n",
    "df.to_csv('jobs1.csv') "
   ]
  },
  {
   "cell_type": "code",
   "execution_count": null,
   "metadata": {},
   "outputs": [],
   "source": []
  }
 ],
 "metadata": {
  "kernelspec": {
   "display_name": "Python 3",
   "language": "python",
   "name": "python3"
  },
  "language_info": {
   "codemirror_mode": {
    "name": "ipython",
    "version": 3
   },
   "file_extension": ".py",
   "mimetype": "text/x-python",
   "name": "python",
   "nbconvert_exporter": "python",
   "pygments_lexer": "ipython3",
   "version": "3.8.5"
  }
 },
 "nbformat": 4,
 "nbformat_minor": 4
}
